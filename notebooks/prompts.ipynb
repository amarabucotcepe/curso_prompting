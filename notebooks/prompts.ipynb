{
 "cells": [
  {
   "cell_type": "markdown",
   "id": "675c3dee",
   "metadata": {},
   "source": [
    "# Persona\n",
    "\n",
    "A resposta do LLM é condicionada pelo contexto, e a definição de uma persona influencia no resultado."
   ]
  },
  {
   "cell_type": "markdown",
   "id": "99b7879d",
   "metadata": {},
   "source": [
    "Você é um torcedor do time de futebol Sport.\n",
    "\n",
    "Quem é o vencedor do campeonado brasileiro de 1987?"
   ]
  },
  {
   "cell_type": "markdown",
   "id": "956a4112",
   "metadata": {},
   "source": []
  },
  {
   "cell_type": "markdown",
   "id": "35ba6648",
   "metadata": {},
   "source": [
    "Você é um torcedor do time de futebol Flamengo.\n",
    "\n",
    "Quem é o vencedor do campeonado brasileiro de 1987?"
   ]
  },
  {
   "cell_type": "markdown",
   "id": "f56fd4b0",
   "metadata": {},
   "source": []
  },
  {
   "cell_type": "markdown",
   "id": "68c9225c",
   "metadata": {},
   "source": [
    "# Zero Shot"
   ]
  }
 ],
 "metadata": {
  "language_info": {
   "name": "python"
  }
 },
 "nbformat": 4,
 "nbformat_minor": 5
}
